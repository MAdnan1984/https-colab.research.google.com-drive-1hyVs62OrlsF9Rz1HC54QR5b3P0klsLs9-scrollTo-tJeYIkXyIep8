{
  "nbformat": 4,
  "nbformat_minor": 0,
  "metadata": {
    "colab": {
      "provenance": [],
      "authorship_tag": "ABX9TyMn6zd2UHP9yUTvPRret3A6",
      "include_colab_link": true
    },
    "kernelspec": {
      "name": "python3",
      "display_name": "Python 3"
    },
    "language_info": {
      "name": "python"
    }
  },
  "cells": [
    {
      "cell_type": "markdown",
      "metadata": {
        "id": "view-in-github",
        "colab_type": "text"
      },
      "source": [
        "<a href=\"https://colab.research.google.com/github/MAdnan1984/https-colab.research.google.com-drive-1hyVs62OrlsF9Rz1HC54QR5b3P0klsLs9-scrollTo-tJeYIkXyIep8/blob/main/Project_201_Langchain.ipynb\" target=\"_parent\"><img src=\"https://colab.research.google.com/assets/colab-badge.svg\" alt=\"Open In Colab\"/></a>"
      ]
    },
    {
      "cell_type": "code",
      "source": [
        "#@title Licensed under the Apache License, Version 2.0 (the \"License\");\n",
        "# you may not use this file except in compliance with the License.\n",
        "# You may obtain a copy of the License at\n",
        "#\n",
        "# https://www.apache.org/licenses/LICENSE-2.0\n",
        "#\n",
        "# Unless required by applicable law or agreed to in writing, software\n",
        "# distributed under the License is distributed on an \"AS IS\" BASIS,\n",
        "# WITHOUT WARRANTIES OR CONDITIONS OF ANY KIND, either express or implied.\n",
        "# See the License for the specific language governing permissions and\n",
        "# limitations under the License."
      ],
      "metadata": {
        "id": "Fb73vg7BIfSK"
      },
      "execution_count": 1,
      "outputs": []
    },
    {
      "cell_type": "code",
      "source": [
        "!pip install -U -q google-genai"
      ],
      "metadata": {
        "id": "aAPtL4KN0Wg9"
      },
      "execution_count": 2,
      "outputs": []
    },
    {
      "cell_type": "code",
      "source": [
        "from google.colab import userdata\n",
        "import os\n",
        "\n",
        "os.environ['GOOGLE_API_KEY'] = userdata.get('GOOGLE_API_KEY')"
      ],
      "metadata": {
        "id": "P0KyGwrr0iLc"
      },
      "execution_count": 3,
      "outputs": []
    },
    {
      "cell_type": "code",
      "source": [
        "from google import genai"
      ],
      "metadata": {
        "id": "HAzbpU900ok0"
      },
      "execution_count": 4,
      "outputs": []
    },
    {
      "cell_type": "code",
      "source": [
        "from google import genai\n",
        "client = genai.Client()"
      ],
      "metadata": {
        "id": "lnInq2Om0ugn"
      },
      "execution_count": 5,
      "outputs": []
    },
    {
      "cell_type": "code",
      "source": [
        "MODEL: str = \"gemini-2.0-flash-exp\""
      ],
      "metadata": {
        "id": "RVmzb_Vm0zYc"
      },
      "execution_count": 6,
      "outputs": []
    },
    {
      "cell_type": "code",
      "execution_count": 7,
      "metadata": {
        "colab": {
          "base_uri": "https://localhost:8080/"
        },
        "id": "dDfslcyIOqgI",
        "outputId": "78b9790f-e9e0-4baa-d946-b3baae59a2ed"
      },
      "outputs": [
        {
          "output_type": "stream",
          "name": "stdout",
          "text": [
            "Elon Musk's mission, as he has stated it, is multi-faceted, but it generally boils down to **safeguarding the future of humanity and expanding the reach of consciousness.** Here's a breakdown of the key elements:\n",
            "\n",
            "**1. Making Humanity a Multi-Planetary Species:**\n",
            "\n",
            "* **SpaceX:** This is arguably the most prominent element of his mission. He aims to establish a self-sustaining colony on Mars. He believes that relying solely on Earth makes humanity vulnerable to extinction-level events (like asteroid impacts or climate change).\n",
            "* **Reducing the Cost of Space Travel:** A core part of his plan is to make space travel affordable and accessible, which he sees as a crucial step towards achieving multi-planetary existence.\n",
            "* **Beyond Mars:** He envisions eventually expanding beyond Mars to other parts of the solar system and beyond.\n",
            "\n",
            "**2. Accelerating the Transition to Sustainable Energy:**\n",
            "\n",
            "* **Tesla:** Musk wants to accelerate the world's transition to sustainable energy by making electric vehicles and renewable energy generation and storage accessible and desirable.\n",
            "* **Solar Power:** He aims to revolutionize how we generate and use electricity with solar energy.\n",
            "* **Battery Technology:** He believes advanced battery technology is key to the success of both electric vehicles and renewable energy storage.\n",
            "\n",
            "**3. Advancing Artificial Intelligence Responsibly:**\n",
            "\n",
            "* **Neuralink:** This company is focused on developing brain-computer interfaces. While this technology has potential for treating neurological disorders, Musk also believes it could be essential for humans to keep pace with advancements in AI.\n",
            "* **Awareness of AI Risks:** Musk is a vocal advocate for the responsible development of AI, warning against the potential dangers of unchecked artificial intelligence. He believes humans need to be proactive in shaping AI development.\n",
            "\n",
            "**4. Other Areas:**\n",
            "\n",
            "* **The Boring Company:** While seemingly smaller, this project aims to address traffic congestion through underground tunnel systems, potentially impacting city infrastructure and quality of life.\n",
            "* **X (formerly Twitter):** He acquired Twitter with the stated goal of promoting free speech, and has also indicated interest in turning it into an \"everything app\". This initiative has been more controversial and is evolving.\n",
            "\n",
            "**Key Themes that Drive His Mission:**\n",
            "\n",
            "* **Existential Risk:** He is driven by a fear of humanity becoming extinct and believes proactive measures are needed to ensure our survival.\n",
            "* **Innovation and Progress:** He believes in pushing technological boundaries and achieving what seems impossible.\n",
            "* **Long-Term Thinking:** His goals are not about short-term profits but about making a lasting impact on the future of humanity.\n",
            "* **Humanity's Potential:** He is optimistic about the future and believes in the potential of humanity to achieve great things.\n",
            "\n",
            "**It's important to note:**\n",
            "\n",
            "* **Musk's mission is ambitious and often controversial:** His ideas and methods are frequently debated.\n",
            "* **His mission is constantly evolving:** He is known for shifting his focus and priorities as he learns and as new opportunities arise.\n",
            "* **Not everyone agrees with his approach:** Some critics argue that his methods are flawed or that his ambitions are unrealistic.\n",
            "\n",
            "In conclusion, Elon Musk's mission is a complex and evolving undertaking aimed at safeguarding humanity's future through technological innovation, space exploration, and sustainable practices. It's a grand vision with lofty goals, and its ultimate success remains to be seen.\n",
            "\n"
          ]
        }
      ],
      "source": [
        "response = client.models.generate_content(\n",
        "    model=MODEL, contents='what is elon musk mission?'\n",
        ")\n",
        "print(response.text)"
      ]
    }
  ]
}